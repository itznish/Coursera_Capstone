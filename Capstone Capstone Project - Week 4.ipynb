{
    "nbformat_minor": 1, 
    "cells": [
        {
            "source": "# Coursera Capstone Project - Week 4 Assignment:", 
            "cell_type": "markdown", 
            "metadata": {
                "collapsed": true
            }
        }, 
        {
            "source": "## Introduction:", 
            "cell_type": "markdown", 
            "metadata": {}
        }, 
        {
            "source": "### Business Problem:\nA retail company wants to set up supermarket stores in Hyderabad city. But it is not exactly sure about which Neighbourhood(s) to open the store(s) in.\nThe chosen locations should ideally have a considerable population so that there is more store footfall & near to work centres/residential districts for easier access to a large number of citizens.\nThe Operations Head has sought your help to solve the company\u2019s business problem.\nThere are 2 business questions that need to be answered here.\n\n1.Which part (area) of the city should the company open the supermarket first.\n \n2.Which Neighbourhood(s) would be ideal in that part (as in point 1) setting up such a supermarket in the city.\n\nThe company would ideally prefer to open the store/s in Neighbourhoods where there is a comparatively lower real estate prices (not absolutely low). But the same time, they want to choose the Neighbourhoods with a high population and more number of venues, since it should result in more footfall for the store.\nWhen we consider the business problem, we can create a map and information chart where the real estate prices are placed on Hyderabad and each area is clustered according to the venue density.\n\n\n", 
            "cell_type": "markdown", 
            "metadata": {}
        }, 
        {
            "source": "### Background:\nI have selected Hyderabad for my project since I am familiar with the same, being a resident of the city.\nHyderabad district is a metropolitan with a population of roughly 5 million and 16 sub districts (mandals). The city has a high population and population density. Being a crowded city leads the owners of shops and social sharing places in the city where the population is dense. \nThis clustering will ensure that Neighbourhoods with moderate real estate price and more number of venues will be in single clustered together and hence would be used to answer the business problem.", 
            "cell_type": "markdown", 
            "metadata": {}
        }, 
        {
            "source": "### Data Description:\n\nIn order to solve the business problem, I have decided to use the following data as listed below, which includes the Foursquare Location data API.\n\n\n Geographical co-ordinates data of sub districts (Boroughs) in Hyderabad city by zip code from GitHub repository.\n\n   Source: https://github.com/sanand0/pincode/blob/master/data/IN.csv \n   \n   Use:\n   This data would be used for getting zip codes, for Borough/Neighbourhood mapping and helps to show points on map.\n\n\n Venue data for each Neighbourhood in the city using Foursquare API. I included venues within a 500 metre radius from each neighbourhood centre.\n\n    Use:\n    The data helps us to identify similar Neighbourhoods using venues & also helps in clustering algorithm.\n\n\n\n Geo-Json data for GHMC (Hyderabad Municipality) for Choropleth Maps (to show real estate prices & population spread).\n\n    Use:\n    The data helps us to show real estate prices & population spread on Choropleth Maps / Folium Maps.\n\n\n Average House prices (per square feet) for each Neighbourhood in Hyderabad city.\n   \n   Source: https://www.makaan.com/price-trends/property-rates-for-buy-in-hyderabad\n\n    Use:\n    The data helps us to show real estate prices on Choropleth Maps and to identify potential areas/Neighbourhoods where stores can be opened. \n", 
            "cell_type": "markdown", 
            "metadata": {}
        }, 
        {
            "source": "", 
            "cell_type": "code", 
            "metadata": {}, 
            "outputs": [], 
            "execution_count": null
        }
    ], 
    "metadata": {
        "kernelspec": {
            "display_name": "Python 3.5", 
            "name": "python3", 
            "language": "python"
        }, 
        "language_info": {
            "mimetype": "text/x-python", 
            "nbconvert_exporter": "python", 
            "version": "3.5.5", 
            "name": "python", 
            "pygments_lexer": "ipython3", 
            "file_extension": ".py", 
            "codemirror_mode": {
                "version": 3, 
                "name": "ipython"
            }
        }
    }, 
    "nbformat": 4
}
