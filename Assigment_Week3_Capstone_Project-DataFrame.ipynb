{
    "nbformat_minor": 2, 
    "cells": [
        {
            "source": "## Canada Postal Codes Dataframe Assignment", 
            "cell_type": "markdown", 
            "metadata": {}
        }, 
        {
            "source": "### Importing Libraries", 
            "cell_type": "markdown", 
            "metadata": {}
        }, 
        {
            "execution_count": 9, 
            "cell_type": "code", 
            "metadata": {}, 
            "outputs": [
                {
                    "output_type": "stream", 
                    "name": "stdout", 
                    "text": "Libraries imported\n"
                }
            ], 
            "source": "import pandas as pd # library for data analsysis\nimport numpy as np\n\nfrom bs4 import BeautifulSoup as bs # Library for Web scraping\nimport urllib\n\nimport warnings\n\nprint('Libraries imported')"
        }, 
        {
            "source": "### Creating Soup object to store web site data", 
            "cell_type": "markdown", 
            "metadata": {}
        }, 
        {
            "execution_count": 10, 
            "cell_type": "code", 
            "metadata": {}, 
            "outputs": [
                {
                    "output_type": "stream", 
                    "name": "stdout", 
                    "text": "<!DOCTYPE html>\n<html class=\"client-nojs\" dir=\"ltr\" lang=\"en\">\n <head>\n  <meta charset=\"utf-8\"/>\n  <title>\n   List of postal codes of Canada: M - Wikipedia\n  </title>\n  <script>\n   document.documentElement.className = document.documentElement.className.replace( /(^|\\s)client-nojs(\\s|$)/, \"$1client-js$2\" );\n  </script>\n  <script>\n   (window.RLQ=window.RLQ||[]).push(function(){mw.config.set({\"wgCanonicalNamespace\":\"\",\"wgCanonicalSpecialPageName\":false,\"wgNamespaceNumber\":0,\"wgPageName\":\"List_of_po\n"
                }
            ], 
            "source": "URL = \"https://en.wikipedia.org/wiki/List_of_postal_codes_of_Canada:_M\"\n\nsoup = bs(urllib.request.urlopen(URL), 'html.parser')\nprint(soup.prettify()[:500])"
        }, 
        {
            "source": "### Extracting column & row data to create dataframe", 
            "cell_type": "markdown", 
            "metadata": {}
        }, 
        {
            "execution_count": 11, 
            "cell_type": "code", 
            "metadata": {}, 
            "outputs": [
                {
                    "output_type": "stream", 
                    "name": "stdout", 
                    "text": "['Postcode', 'Borough', 'Neighbourhood']\n"
                }
            ], 
            "source": "#Extracting column names (Table headers) for pandas dataframe\ncolumns = [str(e.string.replace(\"\\n\",\"\")) for e in soup.table.find_all('th')] \nprint(columns)"
        }, 
        {
            "execution_count": 12, 
            "cell_type": "code", 
            "metadata": {}, 
            "outputs": [
                {
                    "execution_count": 12, 
                    "metadata": {}, 
                    "data": {
                        "text/plain": "['M1A',\n 'Not assigned',\n 'Not assigned',\n 'M2A',\n 'Not assigned',\n 'Not assigned',\n 'M3A',\n 'North York',\n 'Parkwoods',\n 'M4A',\n 'North York',\n 'Victoria Village',\n 'M5A',\n 'Downtown Toronto',\n 'Harbourfront',\n 'M5A',\n 'Downtown Toronto',\n 'Regent Park',\n 'M6A',\n 'North York']"
                    }, 
                    "output_type": "execute_result"
                }
            ], 
            "source": "# Extracting row data for pandas dataframe\nrow_text = [str(bs(str(row).replace(\"\\n\",\"\"), \"lxml\").text) for row in soup.table.find_all('td')]\nrow_text[:20]"
        }, 
        {
            "execution_count": 13, 
            "cell_type": "code", 
            "metadata": {}, 
            "outputs": [
                {
                    "output_type": "stream", 
                    "name": "stdout", 
                    "text": "Length: 289,289,289\n"
                }
            ], 
            "source": "postcodes = row_text[0::3]\nboroughs = row_text[1::3]\nneighbourhoods =  row_text[2::3]\n\nprint(\"Length: {},{},{}\".format(len(postcodes),len(boroughs),len(neighbourhoods)))"
        }, 
        {
            "source": "### Tranform the data into a *pandas* dataframe", 
            "cell_type": "markdown", 
            "metadata": {}
        }, 
        {
            "execution_count": 14, 
            "cell_type": "code", 
            "metadata": {}, 
            "outputs": [
                {
                    "output_type": "stream", 
                    "name": "stdout", 
                    "text": "df dimensions: (289, 3)\ndf_filtered dimensions: (212, 3)\n"
                }
            ], 
            "source": "warnings.filterwarnings('ignore')\n\ndf = pd.DataFrame(columns=columns)\n\n# Looping thorugh lists created above to insert data into dataframe\ndf.Postcode = postcodes\ndf.Borough =  boroughs\ndf.Neighbourhood = neighbourhoods\nprint(\"df dimensions:\",df.shape)\n\n# Applying filters to get relevant data \n\n# Filter mask to remove \"not assigned\" Boroughs\nfilter_mask = df.Borough == \"Not assigned\"\n\n#Filtering dataframe\ndf_filtered = df[~filter_mask]\n\n#Replacing Neighborhoods with \"not assigned\" with Borough value:\ndf_filtered.Neighbourhood[df_filtered.Neighbourhood == 'Not assigned'] = df_filtered.Borough\nprint(\"df_filtered dimensions:\",df_filtered.shape)"
        }, 
        {
            "execution_count": 15, 
            "cell_type": "code", 
            "metadata": {}, 
            "outputs": [
                {
                    "execution_count": 15, 
                    "metadata": {}, 
                    "data": {
                        "text/html": "<div>\n<style scoped>\n    .dataframe tbody tr th:only-of-type {\n        vertical-align: middle;\n    }\n\n    .dataframe tbody tr th {\n        vertical-align: top;\n    }\n\n    .dataframe thead th {\n        text-align: right;\n    }\n</style>\n<table border=\"1\" class=\"dataframe\">\n  <thead>\n    <tr style=\"text-align: right;\">\n      <th></th>\n      <th>Postcode</th>\n      <th>Borough</th>\n      <th>Neighbourhood</th>\n    </tr>\n  </thead>\n  <tbody>\n    <tr>\n      <th>0</th>\n      <td>M1B</td>\n      <td>Scarborough</td>\n      <td>Rouge,Malvern</td>\n    </tr>\n    <tr>\n      <th>1</th>\n      <td>M1C</td>\n      <td>Scarborough</td>\n      <td>Highland Creek,Rouge Hill,Port Union</td>\n    </tr>\n    <tr>\n      <th>2</th>\n      <td>M1E</td>\n      <td>Scarborough</td>\n      <td>Guildwood,Morningside,West Hill</td>\n    </tr>\n    <tr>\n      <th>3</th>\n      <td>M1G</td>\n      <td>Scarborough</td>\n      <td>Woburn</td>\n    </tr>\n    <tr>\n      <th>4</th>\n      <td>M1H</td>\n      <td>Scarborough</td>\n      <td>Cedarbrae</td>\n    </tr>\n  </tbody>\n</table>\n</div>", 
                        "text/plain": "  Postcode      Borough                         Neighbourhood\n0      M1B  Scarborough                         Rouge,Malvern\n1      M1C  Scarborough  Highland Creek,Rouge Hill,Port Union\n2      M1E  Scarborough       Guildwood,Morningside,West Hill\n3      M1G  Scarborough                                Woburn\n4      M1H  Scarborough                             Cedarbrae"
                    }, 
                    "output_type": "execute_result"
                }
            ], 
            "source": "df_final = df_filtered.groupby(['Postcode','Borough']).Neighbourhood.agg(lambda val: ','.join(val)).reset_index()\ndf_final.head()"
        }, 
        {
            "source": "### Displaying number of rows in final dataset", 
            "cell_type": "markdown", 
            "metadata": {}
        }, 
        {
            "execution_count": 16, 
            "cell_type": "code", 
            "metadata": {}, 
            "outputs": [
                {
                    "output_type": "stream", 
                    "name": "stdout", 
                    "text": "(103, 3)\n"
                }
            ], 
            "source": "print(df_final.shape)"
        }
    ], 
    "metadata": {
        "kernelspec": {
            "display_name": "Python 3.5", 
            "name": "python3", 
            "language": "python"
        }, 
        "widgets": {
            "state": {}, 
            "version": "1.1.2"
        }, 
        "language_info": {
            "mimetype": "text/x-python", 
            "nbconvert_exporter": "python", 
            "version": "3.5.5", 
            "name": "python", 
            "file_extension": ".py", 
            "pygments_lexer": "ipython3", 
            "codemirror_mode": {
                "version": 3, 
                "name": "ipython"
            }
        }
    }, 
    "nbformat": 4
}